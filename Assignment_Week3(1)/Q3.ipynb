{
 "cells": [
  {
   "cell_type": "code",
   "execution_count": null,
   "id": "dd181612-b368-4e1f-a569-c6c691350046",
   "metadata": {},
   "outputs": [],
   "source": [
    "'''Q3. What is an iterator in python? Name the method used to initialise the iterator object and the method\n",
    "used for iteration. Use these methods to print the first five elements of the given list [2, 4, 6, 8, 10, 12, 14,\n",
    "16, 18, 20].'''\n",
    "\n",
    "# Iterator is an object that allows us to iterate over collections of data such as lists, tuple, dictionaries and sets.\n",
    "# iter() method is used to initialise the iterator object\n",
    "# ___ iter() and ___next___() is the method used for iteration\n",
    "\n",
    "#print first 5 elements of given list using iteration method\n",
    "lst= [2, 4, 6, 8, 10, 12, 14, 16, 18, 20]\n",
    "lst1= iter(lst)\n",
    "for i in range(5):\n",
    "    print(next(lst1))"
   ]
  }
 ],
 "metadata": {
  "kernelspec": {
   "display_name": "Python 3 (ipykernel)",
   "language": "python",
   "name": "python3"
  },
  "language_info": {
   "codemirror_mode": {
    "name": "ipython",
    "version": 3
   },
   "file_extension": ".py",
   "mimetype": "text/x-python",
   "name": "python",
   "nbconvert_exporter": "python",
   "pygments_lexer": "ipython3",
   "version": "3.10.8"
  }
 },
 "nbformat": 4,
 "nbformat_minor": 5
}
