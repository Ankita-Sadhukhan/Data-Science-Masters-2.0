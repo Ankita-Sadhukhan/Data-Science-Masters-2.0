{
 "cells": [
  {
   "cell_type": "code",
   "execution_count": null,
   "id": "1e9465f9-5f3c-4db7-ac69-c627e8420827",
   "metadata": {},
   "outputs": [],
   "source": [
    "'''Q1. Which keyword is used to create a function? Create a function to return a list of odd numbers in the\n",
    "range of 1 to 25.'''\n",
    "\n",
    "#Keyword used to generate a function in python is def.\n",
    "\n",
    "def odd_no():\n",
    "    lst = []\n",
    "    for i in range(1, 25):\n",
    "        if (i % 2 != 0):\n",
    "            lst.append(i)\n",
    "    return lst\n",
    "print(odd_no())        \n"
   ]
  }
 ],
 "metadata": {
  "kernelspec": {
   "display_name": "Python 3 (ipykernel)",
   "language": "python",
   "name": "python3"
  },
  "language_info": {
   "codemirror_mode": {
    "name": "ipython",
    "version": 3
   },
   "file_extension": ".py",
   "mimetype": "text/x-python",
   "name": "python",
   "nbconvert_exporter": "python",
   "pygments_lexer": "ipython3",
   "version": "3.10.8"
  }
 },
 "nbformat": 4,
 "nbformat_minor": 5
}
