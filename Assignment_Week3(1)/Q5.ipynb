{
 "cells": [
  {
   "cell_type": "code",
   "execution_count": null,
   "id": "b4b7455d-9b99-42c2-84d4-98e713c243a4",
   "metadata": {},
   "outputs": [],
   "source": [
    "'''Q5. Create a generator function for prime numbers less than 1000. Use the next() method to print the\n",
    "first 20 prime numbers'''\n",
    "\n",
    "def prime_generator():\n",
    "    primes = []\n",
    "    n = 2\n",
    "    while True:\n",
    "        count=0\n",
    "        for i in range(1, n+1):\n",
    "            if (n%i==0):\n",
    "                count+=1\n",
    "        if (count == 2):\n",
    "            primes.append(n)\n",
    "            yield n\n",
    "        n=n+1\n",
    "\n",
    "generator = prime_generator()\n",
    "print(\"The first 20 prime numbers are:\")\n",
    "for i in range(20):\n",
    "    print(next(generator))"
   ]
  }
 ],
 "metadata": {
  "kernelspec": {
   "display_name": "Python 3 (ipykernel)",
   "language": "python",
   "name": "python3"
  },
  "language_info": {
   "codemirror_mode": {
    "name": "ipython",
    "version": 3
   },
   "file_extension": ".py",
   "mimetype": "text/x-python",
   "name": "python",
   "nbconvert_exporter": "python",
   "pygments_lexer": "ipython3",
   "version": "3.10.8"
  }
 },
 "nbformat": 4,
 "nbformat_minor": 5
}
