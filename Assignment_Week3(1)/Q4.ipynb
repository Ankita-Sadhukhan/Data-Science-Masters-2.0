{
 "cells": [
  {
   "cell_type": "code",
   "execution_count": null,
   "id": "960b6ed7-1b6b-45fd-a0b3-cad53cf6a99f",
   "metadata": {},
   "outputs": [],
   "source": [
    "'''Q4. What is a generator function in python? Why yield keyword is used? Give an example of a generator\n",
    "function.'''\n",
    "\n",
    "#Generators in Python (also called generator functions) returns an iterator that produces a sequence of values when iterated over.\n",
    "#yield keyword is similar to a return statement used for returning values or objects. However, yield returns a generator object.\n",
    "\n",
    "#fibonacci series for a given range using generator function\n",
    "def fibonacci(n):\n",
    "    a,b = 0,1\n",
    "    for i in range(n):\n",
    "        yield a\n",
    "        a,b = b, a+b\n",
    "for i in fibonacci(10):\n",
    "    print(i)"
   ]
  }
 ],
 "metadata": {
  "kernelspec": {
   "display_name": "Python 3 (ipykernel)",
   "language": "python",
   "name": "python3"
  },
  "language_info": {
   "codemirror_mode": {
    "name": "ipython",
    "version": 3
   },
   "file_extension": ".py",
   "mimetype": "text/x-python",
   "name": "python",
   "nbconvert_exporter": "python",
   "pygments_lexer": "ipython3",
   "version": "3.10.8"
  }
 },
 "nbformat": 4,
 "nbformat_minor": 5
}
