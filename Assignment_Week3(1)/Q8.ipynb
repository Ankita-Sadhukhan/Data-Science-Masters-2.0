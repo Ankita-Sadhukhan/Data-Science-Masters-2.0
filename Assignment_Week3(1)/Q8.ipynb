{
 "cells": [
  {
   "cell_type": "code",
   "execution_count": null,
   "id": "9d7d51ff-e898-42b1-b4bc-faabbe9b687e",
   "metadata": {},
   "outputs": [],
   "source": [
    "'''Q8. Write a python program to check whether a given number is Palindrome or not using a while loop.'''\n",
    "\n",
    "#program to check wheather a given number is prime or not using a while loop\n",
    "def palindrome(n):\n",
    "    string_n=str(n)\n",
    "    if string_n == string_n[::-1]:\n",
    "        return True\n",
    "    \n",
    "n1=int(input(\"Enter the number to be checked: \"))\n",
    "if palindrome(n1):\n",
    "    print(\"Its palindrome\")\n",
    "else:\n",
    "    print(\"Its not palindrome\")"
   ]
  }
 ],
 "metadata": {
  "kernelspec": {
   "display_name": "Python 3 (ipykernel)",
   "language": "python",
   "name": "python3"
  },
  "language_info": {
   "codemirror_mode": {
    "name": "ipython",
    "version": 3
   },
   "file_extension": ".py",
   "mimetype": "text/x-python",
   "name": "python",
   "nbconvert_exporter": "python",
   "pygments_lexer": "ipython3",
   "version": "3.10.8"
  }
 },
 "nbformat": 4,
 "nbformat_minor": 5
}
