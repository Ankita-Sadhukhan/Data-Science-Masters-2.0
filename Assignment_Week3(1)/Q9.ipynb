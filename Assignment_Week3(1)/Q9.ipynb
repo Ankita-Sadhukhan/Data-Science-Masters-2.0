{
 "cells": [
  {
   "cell_type": "code",
   "execution_count": null,
   "id": "b42fd2bf-8443-47fa-b616-b9724f30b8c8",
   "metadata": {},
   "outputs": [],
   "source": [
    "'''Q9. Write a code to print odd numbers from 1 to 100 using list comprehension.\n",
    "Note: Use a list comprehension to create a list from 1 to 100 and use another List comprehension to filter\n",
    "out odd numbers.'''\n",
    "\n",
    "numbers = list(range(101))\n",
    "odd_no = list(filter(lambda x : x%2 != 0, numbers))\n",
    "print(odd_no)"
   ]
  }
 ],
 "metadata": {
  "kernelspec": {
   "display_name": "Python 3 (ipykernel)",
   "language": "python",
   "name": "python3"
  },
  "language_info": {
   "codemirror_mode": {
    "name": "ipython",
    "version": 3
   },
   "file_extension": ".py",
   "mimetype": "text/x-python",
   "name": "python",
   "nbconvert_exporter": "python",
   "pygments_lexer": "ipython3",
   "version": "3.10.8"
  }
 },
 "nbformat": 4,
 "nbformat_minor": 5
}
