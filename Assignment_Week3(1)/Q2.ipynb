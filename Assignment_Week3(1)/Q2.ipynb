{
 "cells": [
  {
   "cell_type": "code",
   "execution_count": null,
   "id": "13600c54-8e86-403e-8f1f-25271b76c512",
   "metadata": {},
   "outputs": [],
   "source": [
    "'''Q2. Why *args and **kwargs is used in some functions? Create a function each for *args and **kwargs\n",
    "to demonstrate their use.'''\n",
    "\n",
    "#*args function is used in some functions where we want multiple variables of different data types to pass at a time. It always returns tuple type value.\n",
    "def example1(*args):\n",
    "    return args\n",
    "print(type(example1()))\n",
    "print(example1(4,98,76))\n",
    "#returns tuple type value\n",
    "\n",
    "#**kwargs is used in those functions where we want to return any type of data into a dictionay data type.\n",
    "def example2(**kwargs):\n",
    "    return kwargs\n",
    "print(type(example2()))\n",
    "#returns dictionary type value"
   ]
  }
 ],
 "metadata": {
  "kernelspec": {
   "display_name": "Python 3 (ipykernel)",
   "language": "python",
   "name": "python3"
  },
  "language_info": {
   "codemirror_mode": {
    "name": "ipython",
    "version": 3
   },
   "file_extension": ".py",
   "mimetype": "text/x-python",
   "name": "python",
   "nbconvert_exporter": "python",
   "pygments_lexer": "ipython3",
   "version": "3.10.8"
  }
 },
 "nbformat": 4,
 "nbformat_minor": 5
}
