{
 "cells": [
  {
   "cell_type": "raw",
   "id": "cc479024-4688-4799-aa81-ada0a60729c1",
   "metadata": {},
   "source": [
    "'''Q7. What is the correct way to declare a variable \n",
    "        named age and assign the value 25 to it?'''\n"
   ]
  },
  {
   "cell_type": "code",
   "execution_count": null,
   "id": "4e52a223-9e47-4802-860d-45eb172c1e4d",
   "metadata": {},
   "outputs": [],
   "source": [
    "age = 25\n",
    "print(age)"
   ]
  }
 ],
 "metadata": {
  "kernelspec": {
   "display_name": "Python 3 (ipykernel)",
   "language": "python",
   "name": "python3"
  },
  "language_info": {
   "codemirror_mode": {
    "name": "ipython",
    "version": 3
   },
   "file_extension": ".py",
   "mimetype": "text/x-python",
   "name": "python",
   "nbconvert_exporter": "python",
   "pygments_lexer": "ipython3",
   "version": "3.10.8"
  }
 },
 "nbformat": 4,
 "nbformat_minor": 5
}
