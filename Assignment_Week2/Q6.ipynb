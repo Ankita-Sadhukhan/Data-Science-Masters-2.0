{
 "cells": [
  {
   "cell_type": "code",
   "execution_count": null,
   "id": "865c2092-a1b2-417c-9d7b-16fb39bb0d51",
   "metadata": {},
   "outputs": [],
   "source": [
    "'''Q6. What is a complex number in mathematics, \n",
    "        and how is it represented in Python?'''\n",
    "\n",
    "'''In mathematics, a complex number is a number of the form a + bi, \n",
    "    where a and b are real numbers, and i is an imaginary unit \n",
    "    satisfying i2 = −1. For example, 2 + 3i is a complex number.'''\n",
    "\n",
    "c = complex(2, 3) #1st method\n",
    "print(type(c))\n",
    "\n",
    "c = 2 + 5j #2nd method\n",
    "print(type(c))"
   ]
  }
 ],
 "metadata": {
  "kernelspec": {
   "display_name": "Python 3 (ipykernel)",
   "language": "python",
   "name": "python3"
  },
  "language_info": {
   "codemirror_mode": {
    "name": "ipython",
    "version": 3
   },
   "file_extension": ".py",
   "mimetype": "text/x-python",
   "name": "python",
   "nbconvert_exporter": "python",
   "pygments_lexer": "ipython3",
   "version": "3.10.8"
  }
 },
 "nbformat": 4,
 "nbformat_minor": 5
}
