{
 "cells": [
  {
   "cell_type": "code",
   "execution_count": null,
   "id": "4059b0d8-6881-4384-9f18-edcee1bb0842",
   "metadata": {},
   "outputs": [],
   "source": [
    "'''Q5. Given a list my_list = [1, 2, 3, 4, 5], write the code \n",
    "        to slice the list and obtain the sub-list [2, 3].'''\n",
    "\n",
    "my_list = [1, 2, 3, 4, 5]\n",
    "sub_list = my_list[1:3]\n",
    "print(sub_list)"
   ]
  }
 ],
 "metadata": {
  "kernelspec": {
   "display_name": "Python 3 (ipykernel)",
   "language": "python",
   "name": "python3"
  },
  "language_info": {
   "codemirror_mode": {
    "name": "ipython",
    "version": 3
   },
   "file_extension": ".py",
   "mimetype": "text/x-python",
   "name": "python",
   "nbconvert_exporter": "python",
   "pygments_lexer": "ipython3",
   "version": "3.10.8"
  }
 },
 "nbformat": 4,
 "nbformat_minor": 5
}
