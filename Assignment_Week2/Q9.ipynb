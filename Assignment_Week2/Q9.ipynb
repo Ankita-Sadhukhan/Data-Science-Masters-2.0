{
 "cells": [
  {
   "cell_type": "raw",
   "id": "73c9276e-e34c-44fb-9aa4-157302841c91",
   "metadata": {},
   "source": [
    "'''Q9. Create a variable named name and assign your full name to \n",
    "it as a string. How would you print the value of this variable?'''\n"
   ]
  },
  {
   "cell_type": "code",
   "execution_count": null,
   "id": "e976ad3f-2f65-49b0-9a55-4a5b3936a18b",
   "metadata": {},
   "outputs": [],
   "source": [
    "name = \"Ankita Sadhukhan\"\n",
    "print(name)"
   ]
  }
 ],
 "metadata": {
  "kernelspec": {
   "display_name": "Python 3 (ipykernel)",
   "language": "python",
   "name": "python3"
  },
  "language_info": {
   "codemirror_mode": {
    "name": "ipython",
    "version": 3
   },
   "file_extension": ".py",
   "mimetype": "text/x-python",
   "name": "python",
   "nbconvert_exporter": "python",
   "pygments_lexer": "ipython3",
   "version": "3.10.8"
  }
 },
 "nbformat": 4,
 "nbformat_minor": 5
}
