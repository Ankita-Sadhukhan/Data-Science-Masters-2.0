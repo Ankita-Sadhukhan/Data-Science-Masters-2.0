{
 "cells": [
  {
   "cell_type": "code",
   "execution_count": null,
   "id": "1f5f5b1d-56ce-4e5c-9956-494fbcb5da82",
   "metadata": {},
   "outputs": [],
   "source": [
    "'''Q8. Declare a variable named price and assign the value\n",
    "    9.99 to it. What data type does this variable belong to?'''\n",
    "\n",
    "price = 9.99\n",
    "print(type(price))"
   ]
  }
 ],
 "metadata": {
  "kernelspec": {
   "display_name": "Python 3 (ipykernel)",
   "language": "python",
   "name": "python3"
  },
  "language_info": {
   "codemirror_mode": {
    "name": "ipython",
    "version": 3
   },
   "file_extension": ".py",
   "mimetype": "text/x-python",
   "name": "python",
   "nbconvert_exporter": "python",
   "pygments_lexer": "ipython3",
   "version": "3.10.8"
  }
 },
 "nbformat": 4,
 "nbformat_minor": 5
}
