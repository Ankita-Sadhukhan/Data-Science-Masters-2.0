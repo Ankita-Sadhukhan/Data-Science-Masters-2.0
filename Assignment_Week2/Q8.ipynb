{
 "cells": [
  {
   "cell_type": "raw",
   "id": "1e0cc0ca-fdec-482a-8ae4-85292d3b350b",
   "metadata": {},
   "source": [
    "'''Q8. Declare a variable named price and assign the value\n",
    "    9.99 to it. What data type does this variable belong to?'''\n"
   ]
  },
  {
   "cell_type": "code",
   "execution_count": null,
   "id": "70c663e9-fd47-4615-b14f-0f6ef28256e7",
   "metadata": {},
   "outputs": [],
   "source": [
    "price = 9.99\n",
    "print(type(price))"
   ]
  }
 ],
 "metadata": {
  "kernelspec": {
   "display_name": "Python 3 (ipykernel)",
   "language": "python",
   "name": "python3"
  },
  "language_info": {
   "codemirror_mode": {
    "name": "ipython",
    "version": 3
   },
   "file_extension": ".py",
   "mimetype": "text/x-python",
   "name": "python",
   "nbconvert_exporter": "python",
   "pygments_lexer": "ipython3",
   "version": "3.10.8"
  }
 },
 "nbformat": 4,
 "nbformat_minor": 5
}
