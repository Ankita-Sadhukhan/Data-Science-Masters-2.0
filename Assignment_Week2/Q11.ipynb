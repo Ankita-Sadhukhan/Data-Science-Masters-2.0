{
 "cells": [
  {
   "cell_type": "raw",
   "id": "2cee30de-f365-4e3d-bc0d-6ea9f4e6db73",
   "metadata": {},
   "source": [
    "'''Q11. Create a variable named \"is_student\" and assign it\n",
    "     a boolean value indicating whether you are\n",
    "     currently a student or not.'''\n"
   ]
  },
  {
   "cell_type": "code",
   "execution_count": null,
   "id": "5f4d20af-c3b1-4023-94f0-aba9c7510bb6",
   "metadata": {},
   "outputs": [],
   "source": [
    "is_student = True #You are currently a student\n",
    "is_student =False #You are currently not a student"
   ]
  }
 ],
 "metadata": {
  "kernelspec": {
   "display_name": "Python 3 (ipykernel)",
   "language": "python",
   "name": "python3"
  },
  "language_info": {
   "codemirror_mode": {
    "name": "ipython",
    "version": 3
   },
   "file_extension": ".py",
   "mimetype": "text/x-python",
   "name": "python",
   "nbconvert_exporter": "python",
   "pygments_lexer": "ipython3",
   "version": "3.10.8"
  }
 },
 "nbformat": 4,
 "nbformat_minor": 5
}
