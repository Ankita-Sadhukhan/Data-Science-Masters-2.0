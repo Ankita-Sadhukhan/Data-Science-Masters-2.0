{
 "cells": [
  {
   "cell_type": "raw",
   "id": "90fed77c-fc26-452f-9c5f-1f6c80272e67",
   "metadata": {},
   "source": [
    "'''Q6. What is a complex number in mathematics, \n",
    "        and how is it represented in Python?'''\n"
   ]
  },
  {
   "cell_type": "code",
   "execution_count": null,
   "id": "a83850bd-6a62-4644-8a5d-7ee62a6bb274",
   "metadata": {},
   "outputs": [],
   "source": [
    "c = complex(2, 3) #1st method\n",
    "print(type(c))\n",
    "\n",
    "c = 2 + 5j #2nd method\n",
    "print(type(c))"
   ]
  }
 ],
 "metadata": {
  "kernelspec": {
   "display_name": "Python 3 (ipykernel)",
   "language": "python",
   "name": "python3"
  },
  "language_info": {
   "codemirror_mode": {
    "name": "ipython",
    "version": 3
   },
   "file_extension": ".py",
   "mimetype": "text/x-python",
   "name": "python",
   "nbconvert_exporter": "python",
   "pygments_lexer": "ipython3",
   "version": "3.10.8"
  }
 },
 "nbformat": 4,
 "nbformat_minor": 5
}
