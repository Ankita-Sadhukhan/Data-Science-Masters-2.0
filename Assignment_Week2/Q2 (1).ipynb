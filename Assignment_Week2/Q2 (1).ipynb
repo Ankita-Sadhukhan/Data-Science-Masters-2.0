{
 "cells": [
  {
   "cell_type": "raw",
   "id": "6a210b4e-c1f0-4ddd-a102-e05b197635f7",
   "metadata": {},
   "source": [
    "Q2. What are variables in Python? How do you declare and assign values to variables?\n"
   ]
  },
  {
   "cell_type": "code",
   "execution_count": null,
   "id": "7749cb46-2d6c-41eb-801c-336445d60d35",
   "metadata": {},
   "outputs": [],
   "source": [
    "#A variable is a named location in memory where you can store values such as numbers, strings, lists, or other objects.\n",
    " \n",
    "#declares a variable named x and assigns it the value 10\n",
    "x = 10\n",
    "print(x)"
   ]
  }
 ],
 "metadata": {
  "kernelspec": {
   "display_name": "Python 3 (ipykernel)",
   "language": "python",
   "name": "python3"
  },
  "language_info": {
   "codemirror_mode": {
    "name": "ipython",
    "version": 3
   },
   "file_extension": ".py",
   "mimetype": "text/x-python",
   "name": "python",
   "nbconvert_exporter": "python",
   "pygments_lexer": "ipython3",
   "version": "3.10.8"
  }
 },
 "nbformat": 4,
 "nbformat_minor": 5
}
