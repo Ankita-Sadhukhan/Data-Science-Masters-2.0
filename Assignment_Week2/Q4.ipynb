{
 "cells": [
  {
   "cell_type": "code",
   "execution_count": null,
   "id": "07994e2c-c80a-4ec5-8dfc-463861cdd03f",
   "metadata": {},
   "outputs": [],
   "source": [
    "'''Q4. How do you write and\n",
    " execute a Python script from the command line?'''\n",
    "\n",
    "'''After creating a Python script file with a .py extension,open a \n",
    "terminal window and locate the directory where the Python script \n",
    "file is located.\n",
    "Then type this command to execute the Python script: python script_name.py'''"
   ]
  }
 ],
 "metadata": {
  "kernelspec": {
   "display_name": "Python 3 (ipykernel)",
   "language": "python",
   "name": "python3"
  },
  "language_info": {
   "codemirror_mode": {
    "name": "ipython",
    "version": 3
   },
   "file_extension": ".py",
   "mimetype": "text/x-python",
   "name": "python",
   "nbconvert_exporter": "python",
   "pygments_lexer": "ipython3",
   "version": "3.10.8"
  }
 },
 "nbformat": 4,
 "nbformat_minor": 5
}
