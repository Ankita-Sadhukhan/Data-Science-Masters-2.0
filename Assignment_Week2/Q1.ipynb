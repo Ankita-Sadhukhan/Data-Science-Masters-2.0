{
 "cells": [
  {
   "cell_type": "code",
   "execution_count": null,
   "id": "8154515d-1e88-4b0d-a7f3-7e1bd0b2eeed",
   "metadata": {},
   "outputs": [],
   "source": [
    "'''Q1. How do you comment code in Python?\n",
    " What are the different types of comments?'''\n",
    "\n",
    "#We add comment to code to provide explanation or for self notes\n",
    "\n",
    "#Single line comment: starts by (#), use to print comment in a single line\n",
    "#Multi line comment: starts and ends by(''' or \"\"\"), use to print comment in multiple lines"
   ]
  }
 ],
 "metadata": {
  "kernelspec": {
   "display_name": "Python 3 (ipykernel)",
   "language": "python",
   "name": "python3"
  },
  "language_info": {
   "codemirror_mode": {
    "name": "ipython",
    "version": 3
   },
   "file_extension": ".py",
   "mimetype": "text/x-python",
   "name": "python",
   "nbconvert_exporter": "python",
   "pygments_lexer": "ipython3",
   "version": "3.10.8"
  }
 },
 "nbformat": 4,
 "nbformat_minor": 5
}
