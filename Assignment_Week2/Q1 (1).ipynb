{
 "cells": [
  {
   "cell_type": "raw",
   "id": "855f5ade-faae-4b21-9511-e676142d598b",
   "metadata": {},
   "source": [
    "Q1. How do you comment code in Python? What are the different types of comments?\n"
   ]
  },
  {
   "cell_type": "code",
   "execution_count": null,
   "id": "cae11203-ad71-4638-8974-9dece82bd6c7",
   "metadata": {},
   "outputs": [],
   "source": [
    "#We add comment to code to provide explanation or for self notes\n",
    "\n",
    "#Single line comment: starts by (#), use to print comment in a single line\n",
    "#Multi line comment: starts and ends by(''' or \"\"\"), use to print comment in multiple lines"
   ]
  }
 ],
 "metadata": {
  "kernelspec": {
   "display_name": "Python 3 (ipykernel)",
   "language": "python",
   "name": "python3"
  },
  "language_info": {
   "codemirror_mode": {
    "name": "ipython",
    "version": 3
   },
   "file_extension": ".py",
   "mimetype": "text/x-python",
   "name": "python",
   "nbconvert_exporter": "python",
   "pygments_lexer": "ipython3",
   "version": "3.10.8"
  }
 },
 "nbformat": 4,
 "nbformat_minor": 5
}
