{
 "cells": [
  {
   "cell_type": "raw",
   "id": "b3503ea6-0eec-45a3-9b17-1fbb6c358f45",
   "metadata": {},
   "source": [
    "'''Q10. Given the string \"Hello, World!\",\n",
    "     extract the substring \"World\".'''\n"
   ]
  },
  {
   "cell_type": "code",
   "execution_count": null,
   "id": "6c8d9830-7826-4e5b-bcd5-c2ac75c73dd8",
   "metadata": {},
   "outputs": [],
   "source": [
    "s=\"Hello, World!\"\n",
    "print(s[6:12])"
   ]
  }
 ],
 "metadata": {
  "kernelspec": {
   "display_name": "Python 3 (ipykernel)",
   "language": "python",
   "name": "python3"
  },
  "language_info": {
   "codemirror_mode": {
    "name": "ipython",
    "version": 3
   },
   "file_extension": ".py",
   "mimetype": "text/x-python",
   "name": "python",
   "nbconvert_exporter": "python",
   "pygments_lexer": "ipython3",
   "version": "3.10.8"
  }
 },
 "nbformat": 4,
 "nbformat_minor": 5
}
