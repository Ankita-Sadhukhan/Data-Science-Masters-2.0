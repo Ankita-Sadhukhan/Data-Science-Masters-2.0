{
 "cells": [
  {
   "cell_type": "code",
   "execution_count": null,
   "id": "266bc1eb-64be-4ab3-9f36-9f4c15cc835d",
   "metadata": {},
   "outputs": [],
   "source": [
    "'''Q3. How do you convert one data type to another in Python?'''\n",
    "\n",
    "#Implicit type Conversion: Built in function\n",
    "#Explicit type conversion: It explicitly converting one data type to another. \n",
    "#for example\n",
    "x=9\n",
    "print(type(x))\n",
    "y=float(x)\n",
    "print(type(y))"
   ]
  }
 ],
 "metadata": {
  "kernelspec": {
   "display_name": "Python 3 (ipykernel)",
   "language": "python",
   "name": "python3"
  },
  "language_info": {
   "codemirror_mode": {
    "name": "ipython",
    "version": 3
   },
   "file_extension": ".py",
   "mimetype": "text/x-python",
   "name": "python",
   "nbconvert_exporter": "python",
   "pygments_lexer": "ipython3",
   "version": "3.10.8"
  }
 },
 "nbformat": 4,
 "nbformat_minor": 5
}
