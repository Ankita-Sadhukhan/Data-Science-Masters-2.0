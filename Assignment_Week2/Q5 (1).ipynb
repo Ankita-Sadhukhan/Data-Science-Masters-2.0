{
 "cells": [
  {
   "cell_type": "raw",
   "id": "e4b35603-a5ce-4979-a413-c803acc658ea",
   "metadata": {},
   "source": [
    "'''Q5. Given a list my_list = [1, 2, 3, 4, 5], write the code \n",
    "        to slice the list and obtain the sub-list [2, 3].'''\n"
   ]
  },
  {
   "cell_type": "code",
   "execution_count": null,
   "id": "6d8e1048-12e0-41bd-9223-4ea4ca875fc6",
   "metadata": {},
   "outputs": [],
   "source": [
    "my_list = [1, 2, 3, 4, 5]\n",
    "sub_list = my_list[1:3]\n",
    "print(sub_list)"
   ]
  }
 ],
 "metadata": {
  "kernelspec": {
   "display_name": "Python 3 (ipykernel)",
   "language": "python",
   "name": "python3"
  },
  "language_info": {
   "codemirror_mode": {
    "name": "ipython",
    "version": 3
   },
   "file_extension": ".py",
   "mimetype": "text/x-python",
   "name": "python",
   "nbconvert_exporter": "python",
   "pygments_lexer": "ipython3",
   "version": "3.10.8"
  }
 },
 "nbformat": 4,
 "nbformat_minor": 5
}
