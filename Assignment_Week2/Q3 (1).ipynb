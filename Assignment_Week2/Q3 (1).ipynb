{
 "cells": [
  {
   "cell_type": "raw",
   "id": "769ff4f7-857f-4c86-8a1f-7a1b75c7c844",
   "metadata": {},
   "source": [
    "Q3. How do you convert one data type to another in Python?\n"
   ]
  },
  {
   "cell_type": "code",
   "execution_count": null,
   "id": "dfe5a4b0-3746-4c38-8029-89b76d36f0dd",
   "metadata": {},
   "outputs": [],
   "source": [
    "#Implicit type Conversion: Built in function\n",
    "#Explicit type conversion: It explicitly converting one data type to another. \n",
    "#for example\n",
    "x=9\n",
    "print(type(x))\n",
    "y=float(x)\n",
    "print(type(y))"
   ]
  }
 ],
 "metadata": {
  "kernelspec": {
   "display_name": "Python 3 (ipykernel)",
   "language": "python",
   "name": "python3"
  },
  "language_info": {
   "codemirror_mode": {
    "name": "ipython",
    "version": 3
   },
   "file_extension": ".py",
   "mimetype": "text/x-python",
   "name": "python",
   "nbconvert_exporter": "python",
   "pygments_lexer": "ipython3",
   "version": "3.10.8"
  }
 },
 "nbformat": 4,
 "nbformat_minor": 5
}
