{
 "cells": [
  {
   "cell_type": "code",
   "execution_count": null,
   "id": "aead75b9-1a81-4e33-981b-7795f3a99297",
   "metadata": {},
   "outputs": [],
   "source": [
    "'''Q4. What are getter and setter in python? \n",
    "Create a class and create a getter and a setter method in this class.'''\n",
    "\n",
    "#In Python, getters and setters are methods used to access (get) and modify (set) the values of class attributes respectively.\n",
    "\n",
    "class person:\n",
    "    def __init__(self,name,age):\n",
    "        self.__name= name\n",
    "        self.__age= age\n",
    "    \n",
    "    def get_age(self):\n",
    "        print(f\"{self.__name}'s age is {self.__age}\")\n",
    "    def set_age(self,new_age):\n",
    "        if new_age>0:\n",
    "            print(f\"{self.__name}'s age is {new_age}\")\n",
    "\n",
    "obj= person(\"nkita\",18)\n",
    "obj.get_age() #prints initial value\n",
    "obj.set_age(25) #prints new value"
   ]
  }
 ],
 "metadata": {
  "kernelspec": {
   "display_name": "Python 3 (ipykernel)",
   "language": "python",
   "name": "python3"
  },
  "language_info": {
   "codemirror_mode": {
    "name": "ipython",
    "version": 3
   },
   "file_extension": ".py",
   "mimetype": "text/x-python",
   "name": "python",
   "nbconvert_exporter": "python",
   "pygments_lexer": "ipython3",
   "version": "3.10.8"
  }
 },
 "nbformat": 4,
 "nbformat_minor": 5
}
