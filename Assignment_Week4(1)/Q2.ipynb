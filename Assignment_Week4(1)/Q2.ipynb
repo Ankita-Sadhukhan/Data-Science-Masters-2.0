{
 "cells": [
  {
   "cell_type": "code",
   "execution_count": null,
   "id": "0d7c0496-1370-411b-96ae-f5a9e7ded20b",
   "metadata": {},
   "outputs": [],
   "source": [
    "'''Q2. Create a child class car from the vehicle class created in Que 1,\n",
    "which will inherit the vehicle class.Create a method named seating_capacity \n",
    "which takes capacity as an argument and returns the name of the vehicle and its seating capacity.'''\n",
    "\n",
    "class vehicle:\n",
    "    def __init__(self,name,seats):\n",
    "        self.name= name\n",
    "        self.seats= seats\n",
    "class car(vehicle):\n",
    "    def seating_capacity(self):\n",
    "        print(f\"The name of the vehicle is {self.name} and its seating capacity is {self.seats}\")\n",
    "\n",
    "obj=car(\"Sedan\",4)\n",
    "obj.seating_capacity()"
   ]
  }
 ],
 "metadata": {
  "kernelspec": {
   "display_name": "",
   "name": ""
  },
  "language_info": {
   "name": ""
  }
 },
 "nbformat": 4,
 "nbformat_minor": 5
}
