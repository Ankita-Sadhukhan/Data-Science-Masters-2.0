{
 "cells": [
  {
   "cell_type": "code",
   "execution_count": null,
   "id": "6bd9b267-d3ca-4cf6-a326-a4341d5fcaf2",
   "metadata": {},
   "outputs": [],
   "source": [
    "'''Q1, Create a vehicle class with an init method having instance \n",
    "variables as name_of_vehicle, max_speed and average_of_vehicle.'''\n",
    "\n",
    "class vehicle:\n",
    "    def __init__(self, name_of_vehicle,max_speed,average_of_vehicle):\n",
    "        self.name_of_vehicle= name_of_vehicle\n",
    "        self.max_speed= max_speed\n",
    "        self.average_of_vehicle= average_of_vehicle\n",
    "\n",
    "    def get_details(self):\n",
    "        print(f\"The name of vehicle is {self.name_of_vehicle}\")\n",
    "        print(f\"The maximum speed of vehicle is {self.max_speed} km/h\")\n",
    "        print(f\"The average of vehicle is {self.average_of_vehicle} km/l\")\n",
    "\n",
    "obj= vehicle(\"Toyota\",180,20)\n",
    "obj.get_details()"
   ]
  }
 ],
 "metadata": {
  "kernelspec": {
   "display_name": "Python 3 (ipykernel)",
   "language": "python",
   "name": "python3"
  },
  "language_info": {
   "codemirror_mode": {
    "name": "ipython",
    "version": 3
   },
   "file_extension": ".py",
   "mimetype": "text/x-python",
   "name": "python",
   "nbconvert_exporter": "python",
   "pygments_lexer": "ipython3",
   "version": "3.10.8"
  }
 },
 "nbformat": 4,
 "nbformat_minor": 5
}
