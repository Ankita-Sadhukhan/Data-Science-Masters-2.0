{
 "cells": [
  {
   "cell_type": "code",
   "execution_count": null,
   "id": "ef13a26f-5461-4878-ab09-bcdcbbf8c108",
   "metadata": {},
   "outputs": [],
   "source": [
    "'''Q3. What is multiple inheritance? \n",
    "Write a python code to demonstrate multiple inheritance.'''\n",
    "\n",
    "#Multiple inheritance is a feature in object-oriented programming where a class can inherit attributes and methods from multiple parent classes\n",
    "\n",
    "\n",
    "class papa:\n",
    "    def papa_msg(self):\n",
    "        print(\"Hi, this is Dad\")\n",
    "class mom:\n",
    "    def mom_msg(self):\n",
    "        print(\"Hi, this is Mom\")\n",
    "class child(papa, mom):\n",
    "    pass\n",
    "\n",
    "obj=child() # created object of child()\n",
    "obj.papa_msg()\n",
    "obj.mom_msg()"
   ]
  }
 ],
 "metadata": {
  "kernelspec": {
   "display_name": "Python 3 (ipykernel)",
   "language": "python",
   "name": "python3"
  },
  "language_info": {
   "codemirror_mode": {
    "name": "ipython",
    "version": 3
   },
   "file_extension": ".py",
   "mimetype": "text/x-python",
   "name": "python",
   "nbconvert_exporter": "python",
   "pygments_lexer": "ipython3",
   "version": "3.10.8"
  }
 },
 "nbformat": 4,
 "nbformat_minor": 5
}
