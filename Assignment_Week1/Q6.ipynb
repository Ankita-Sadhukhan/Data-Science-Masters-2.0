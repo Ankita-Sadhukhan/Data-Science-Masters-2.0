{
 "cells": [
  {
   "cell_type": "raw",
   "id": "739ec481-2528-4de7-851b-e442b1d61576",
   "metadata": {},
   "source": [
    "Q6. Create a list containing 25 int type data. Using for loop and if-else condition print if the element is\n",
    "divisible by 3 or not.\n"
   ]
  },
  {
   "cell_type": "code",
   "execution_count": null,
   "id": "1e7ec813-c7aa-479f-8b25-ebfc9e2c17a5",
   "metadata": {},
   "outputs": [],
   "source": [
    "import random\n",
    "lst = [random.randint(1, 100) for i in range(25)]\n",
    "\n",
    "for element in lst:\n",
    "    if element % 3 == 0:\n",
    "        print(str(element) + \" is divisible by 3\")\n",
    "    else:\n",
    "        print(str(element) + \" is not divisible by 3\")"
   ]
  }
 ],
 "metadata": {
  "kernelspec": {
   "display_name": "Python 3 (ipykernel)",
   "language": "python",
   "name": "python3"
  },
  "language_info": {
   "codemirror_mode": {
    "name": "ipython",
    "version": 3
   },
   "file_extension": ".py",
   "mimetype": "text/x-python",
   "name": "python",
   "nbconvert_exporter": "python",
   "pygments_lexer": "ipython3",
   "version": "3.10.8"
  }
 },
 "nbformat": 4,
 "nbformat_minor": 5
}
