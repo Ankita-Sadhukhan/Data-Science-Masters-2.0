{
 "cells": [
  {
   "cell_type": "raw",
   "id": "ca2bf9cc-8cbe-4d00-bdc2-0502a721a79e",
   "metadata": {},
   "source": [
    "Q2. Given are some following variables containing data:\n",
    "(i) var1 = ‘ ‘\n",
    "(ii) var2 = ‘[ DS , ML , Python]’\n",
    "(iii) var3 = [ ‘DS’ , ’ML’ , ‘Python’ ]\n",
    "(iv) var4 = 1.\n",
    "What will be the data type of the above given variable.\n"
   ]
  },
  {
   "cell_type": "raw",
   "id": "3e0a477e-ac34-4bd6-aabc-62e5a5479f92",
   "metadata": {},
   "source": [
    "(i) var1 = 'str'(string) type variable that returns an empty string\n",
    "(ii) var2 = 'str' (string) type variable that returns a list in string\n",
    "(iii) var3 = 'list' type variable that returns a list containing strings in it\n",
    "(iv) var4 = 'int' type variable that returns interger "
   ]
  }
 ],
 "metadata": {
  "kernelspec": {
   "display_name": "Python 3 (ipykernel)",
   "language": "python",
   "name": "python3"
  },
  "language_info": {
   "codemirror_mode": {
    "name": "ipython",
    "version": 3
   },
   "file_extension": ".py",
   "mimetype": "text/x-python",
   "name": "python",
   "nbconvert_exporter": "python",
   "pygments_lexer": "ipython3",
   "version": "3.10.8"
  }
 },
 "nbformat": 4,
 "nbformat_minor": 5
}
