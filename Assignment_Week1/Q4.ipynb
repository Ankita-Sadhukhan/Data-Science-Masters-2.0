{
 "cells": [
  {
   "cell_type": "raw",
   "id": "d0781a62-7048-4391-b567-3204bee9b7a8",
   "metadata": {},
   "source": [
    "Q4. Create a list of length 10 of your choice containing multiple types of data. Using for loop print the\n",
    "element and its data type.\n"
   ]
  },
  {
   "cell_type": "code",
   "execution_count": null,
   "id": "f138ade6-e735-4819-8c6e-34d2c9a0995e",
   "metadata": {},
   "outputs": [],
   "source": [
    "lst = [1, \"Ankita\", 45.8j, 3.14, \"world\", False, 5, \"!\", 7, \"?\"]\n",
    "for element in lst:\n",
    "  print(element,\" belongs to \", type(element))"
   ]
  }
 ],
 "metadata": {
  "kernelspec": {
   "display_name": "Python 3 (ipykernel)",
   "language": "python",
   "name": "python3"
  },
  "language_info": {
   "codemirror_mode": {
    "name": "ipython",
    "version": 3
   },
   "file_extension": ".py",
   "mimetype": "text/x-python",
   "name": "python",
   "nbconvert_exporter": "python",
   "pygments_lexer": "ipython3",
   "version": "3.10.8"
  }
 },
 "nbformat": 4,
 "nbformat_minor": 5
}
