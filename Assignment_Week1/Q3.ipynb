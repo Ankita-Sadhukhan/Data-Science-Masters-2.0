{
 "cells": [
  {
   "cell_type": "raw",
   "id": "89960f34-ff8b-4c72-a92e-71f4cf1a5a56",
   "metadata": {},
   "source": [
    "Q3. Explain the use of the following operators using an example:\n",
    "(i) /\n",
    "(ii) %\n",
    "(iii) //\n",
    "(iv) **\n"
   ]
  },
  {
   "cell_type": "code",
   "execution_count": null,
   "id": "d46576fc-980c-4223-9c17-941b138a735d",
   "metadata": {},
   "outputs": [],
   "source": [
    "# '/' Float division that returns float data type after dividing the first operand with the second one \n",
    "a = 10\n",
    "b = 3\n",
    "c = a / b\n",
    "print(c) # returns 3.333333333333335\n",
    "\n",
    "# '%' Modulus or remainder operator that returns the remainder of the division of the first operand with the second one   \n",
    "a = 10\n",
    "b = 3\n",
    "c = a % b\n",
    "print(c) # returns 1\n",
    "\n",
    "# Floor division that returns an integer type value when we divide the first operand and the second operand\n",
    "a = 10\n",
    "b = 3\n",
    "c = a // b\n",
    "print(c) #returns 3\n",
    "\n",
    "# '**' Exponentiation operator returns the value of first to the power second operand\n",
    "a = 2\n",
    "b = 3\n",
    "c = a ** b\n",
    "print(c) # returns 8"
   ]
  }
 ],
 "metadata": {
  "kernelspec": {
   "display_name": "Python 3 (ipykernel)",
   "language": "python",
   "name": "python3"
  },
  "language_info": {
   "codemirror_mode": {
    "name": "ipython",
    "version": 3
   },
   "file_extension": ".py",
   "mimetype": "text/x-python",
   "name": "python",
   "nbconvert_exporter": "python",
   "pygments_lexer": "ipython3",
   "version": "3.10.8"
  }
 },
 "nbformat": 4,
 "nbformat_minor": 5
}
