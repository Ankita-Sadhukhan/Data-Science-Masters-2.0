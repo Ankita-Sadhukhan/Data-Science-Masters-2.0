{
 "cells": [
  {
   "cell_type": "raw",
   "id": "bf939413-da75-4402-b2cf-aee3165a1ee2",
   "metadata": {},
   "source": [
    "Q7. What do you understand about mutable and immutable data types? Give examples for both showing\n",
    "this property.\n"
   ]
  },
  {
   "cell_type": "code",
   "execution_count": null,
   "id": "2d836916-caf0-49cf-bd26-9285dadbee6b",
   "metadata": {},
   "outputs": [],
   "source": [
    "\n",
    "# An immutable data type is one that cannot be changed after it is created\n",
    "#  Examples: integers, floats, tuples, and strings.\n",
    "x = 12\n",
    "y = x    \n",
    "x = 24   \n",
    "print(x) # prints new value\n",
    "print(y) # prints old value\n",
    "print()\n",
    "# A mutable data type is one that can be changed after it is created\n",
    "# Examples: lists, dictionaries, and sets.\n",
    "lst = [1, 2, 3]\n",
    "lst.append(4) \n",
    "print(lst) #prints 4 which was added at last"
   ]
  }
 ],
 "metadata": {
  "kernelspec": {
   "display_name": "Python 3 (ipykernel)",
   "language": "python",
   "name": "python3"
  },
  "language_info": {
   "codemirror_mode": {
    "name": "ipython",
    "version": 3
   },
   "file_extension": ".py",
   "mimetype": "text/x-python",
   "name": "python",
   "nbconvert_exporter": "python",
   "pygments_lexer": "ipython3",
   "version": "3.10.8"
  }
 },
 "nbformat": 4,
 "nbformat_minor": 5
}
