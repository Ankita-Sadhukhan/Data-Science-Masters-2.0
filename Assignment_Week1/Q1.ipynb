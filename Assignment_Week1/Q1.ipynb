{
 "cells": [
  {
   "cell_type": "raw",
   "id": "4ef83634-1e0a-469a-adad-3661b4dcec53",
   "metadata": {},
   "source": [
    "Q1. Create one variable containing following type of data:\n",
    "(i) string\n",
    "(ii) list\n",
    "(iii) float\n",
    "(iv) tuple\n"
   ]
  },
  {
   "cell_type": "code",
   "execution_count": null,
   "id": "4d81c42c-45da-4f50-b318-b24f67806c48",
   "metadata": {},
   "outputs": [],
   "source": [
    "s = 'Ankita'\n",
    "lst = [23, 0.987, 'DS', True]\n",
    "f = 79.891\n",
    "t = (89, 0.02, 'Computer')"
   ]
  }
 ],
 "metadata": {
  "kernelspec": {
   "display_name": "Python 3 (ipykernel)",
   "language": "python",
   "name": "python3"
  },
  "language_info": {
   "codemirror_mode": {
    "name": "ipython",
    "version": 3
   },
   "file_extension": ".py",
   "mimetype": "text/x-python",
   "name": "python",
   "nbconvert_exporter": "python",
   "pygments_lexer": "ipython3",
   "version": "3.10.8"
  }
 },
 "nbformat": 4,
 "nbformat_minor": 5
}
