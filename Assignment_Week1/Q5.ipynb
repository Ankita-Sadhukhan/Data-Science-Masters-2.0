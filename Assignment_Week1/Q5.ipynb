{
 "cells": [
  {
   "cell_type": "raw",
   "id": "7536ee4b-f004-4824-86bf-dfa5dc19ec61",
   "metadata": {},
   "source": [
    "Q5. Using a while loop, verify if the number A is purely divisible by number B and if so then how many\n",
    "times it can be divisible.\n"
   ]
  },
  {
   "cell_type": "code",
   "execution_count": null,
   "id": "96427111-c37b-4ddd-ba04-47d6b292f062",
   "metadata": {},
   "outputs": [],
   "source": [
    "A = 24\n",
    "B = 3\n",
    "count = 0\n",
    "\n",
    "while A % B == 0:\n",
    "    A = A / B\n",
    "    count += 1\n",
    "\n",
    "if count > 0:\n",
    "    print(\"A is divisible by B and can be divided\", count, \"times.\")\n",
    "else:\n",
    "    print(\"A is not divisible by B.\")"
   ]
  }
 ],
 "metadata": {
  "kernelspec": {
   "display_name": "Python 3 (ipykernel)",
   "language": "python",
   "name": "python3"
  },
  "language_info": {
   "codemirror_mode": {
    "name": "ipython",
    "version": 3
   },
   "file_extension": ".py",
   "mimetype": "text/x-python",
   "name": "python",
   "nbconvert_exporter": "python",
   "pygments_lexer": "ipython3",
   "version": "3.10.8"
  }
 },
 "nbformat": 4,
 "nbformat_minor": 5
}
